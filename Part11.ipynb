{
 "cells": [
  {
   "cell_type": "code",
   "execution_count": null,
   "id": "62585c91",
   "metadata": {},
   "outputs": [],
   "source": [
    "import numpy as np\n",
    "import matplotlib.pyplot as plt\n",
    "#%%matplotlib inline\n",
    "\n",
    "x = np.linspace(-40,40,100)\n",
    "# print(x)\n",
    "\n",
    "y = np.sin(x)\n",
    "# print(y)\n",
    "\n",
    "plt.plot(x,y)\n",
    "plt.title(\"Sine Wave\")"
   ]
  }
 ],
 "metadata": {
  "kernelspec": {
   "display_name": "base",
   "language": "python",
   "name": "python3"
  },
  "language_info": {
   "codemirror_mode": {
    "name": "ipython",
    "version": 3
   },
   "file_extension": ".py",
   "mimetype": "text/x-python",
   "name": "python",
   "nbconvert_exporter": "python",
   "pygments_lexer": "ipython3",
   "version": "3.13.5"
  }
 },
 "nbformat": 4,
 "nbformat_minor": 5
}
