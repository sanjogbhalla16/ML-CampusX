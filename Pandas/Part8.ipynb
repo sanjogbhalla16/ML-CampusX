{
 "cells": [
  {
   "cell_type": "code",
   "execution_count": 1,
   "id": "2557627c",
   "metadata": {},
   "outputs": [],
   "source": [
    "import numpy as np\n",
    "import pandas as pd\n"
   ]
  },
  {
   "cell_type": "code",
   "execution_count": 2,
   "id": "e5b8ae79",
   "metadata": {},
   "outputs": [],
   "source": [
    "data = pd.read_csv('matches - matches.csv') #only the name is fine if the file is in the same directory"
   ]
  },
  {
   "cell_type": "code",
   "execution_count": 4,
   "id": "27cf91fc",
   "metadata": {},
   "outputs": [],
   "source": [
    "myseries = data['winner'].value_counts()"
   ]
  },
  {
   "cell_type": "code",
   "execution_count": 5,
   "id": "f830233d",
   "metadata": {},
   "outputs": [
    {
     "data": {
      "text/plain": [
       "winner\n",
       "Mumbai Indians                 92\n",
       "Chennai Super Kings            79\n",
       "Kolkata Knight Riders          77\n",
       "Royal Challengers Bangalore    73\n",
       "Kings XI Punjab                70\n",
       "Rajasthan Royals               63\n",
       "Delhi Daredevils               62\n",
       "Sunrisers Hyderabad            42\n",
       "Deccan Chargers                29\n",
       "Gujarat Lions                  13\n",
       "Pune Warriors                  12\n",
       "Rising Pune Supergiant         10\n",
       "Kochi Tuskers Kerala            6\n",
       "Rising Pune Supergiants         5\n",
       "Name: count, dtype: int64"
      ]
     },
     "execution_count": 5,
     "metadata": {},
     "output_type": "execute_result"
    }
   ],
   "source": [
    "myseries"
   ]
  },
  {
   "cell_type": "code",
   "execution_count": 7,
   "id": "143b7456",
   "metadata": {},
   "outputs": [
    {
     "data": {
      "text/plain": [
       "Index(['Mumbai Indians', 'Chennai Super Kings', 'Kolkata Knight Riders',\n",
       "       'Royal Challengers Bangalore', 'Kings XI Punjab', 'Rajasthan Royals',\n",
       "       'Delhi Daredevils', 'Sunrisers Hyderabad', 'Deccan Chargers',\n",
       "       'Gujarat Lions', 'Pune Warriors', 'Rising Pune Supergiant',\n",
       "       'Kochi Tuskers Kerala', 'Rising Pune Supergiants'],\n",
       "      dtype='object', name='winner')"
      ]
     },
     "execution_count": 7,
     "metadata": {},
     "output_type": "execute_result"
    }
   ],
   "source": [
    "myseries.index"
   ]
  },
  {
   "cell_type": "code",
   "execution_count": 8,
   "id": "84602521",
   "metadata": {},
   "outputs": [
    {
     "data": {
      "text/plain": [
       "array([92, 79, 77, 73, 70, 63, 62, 42, 29, 13, 12, 10,  6,  5])"
      ]
     },
     "execution_count": 8,
     "metadata": {},
     "output_type": "execute_result"
    }
   ],
   "source": [
    "myseries.values"
   ]
  },
  {
   "cell_type": "code",
   "execution_count": 9,
   "id": "8c1529b1",
   "metadata": {},
   "outputs": [
    {
     "data": {
      "text/plain": [
       "winner\n",
       "Mumbai Indians                 92\n",
       "Chennai Super Kings            79\n",
       "Kolkata Knight Riders          77\n",
       "Royal Challengers Bangalore    73\n",
       "Kings XI Punjab                70\n",
       "Name: count, dtype: int64"
      ]
     },
     "execution_count": 9,
     "metadata": {},
     "output_type": "execute_result"
    }
   ],
   "source": [
    "myseries.head(5)"
   ]
  },
  {
   "cell_type": "code",
   "execution_count": 10,
   "id": "5465a0b9",
   "metadata": {},
   "outputs": [
    {
     "data": {
      "text/plain": [
       "winner\n",
       "Gujarat Lions              13\n",
       "Pune Warriors              12\n",
       "Rising Pune Supergiant     10\n",
       "Kochi Tuskers Kerala        6\n",
       "Rising Pune Supergiants     5\n",
       "Name: count, dtype: int64"
      ]
     },
     "execution_count": 10,
     "metadata": {},
     "output_type": "execute_result"
    }
   ],
   "source": [
    "myseries.tail(5)"
   ]
  },
  {
   "cell_type": "code",
   "execution_count": 12,
   "id": "95c84f92",
   "metadata": {},
   "outputs": [
    {
     "data": {
      "text/plain": [
       "np.int64(79)"
      ]
     },
     "execution_count": 12,
     "metadata": {},
     "output_type": "execute_result"
    }
   ],
   "source": [
    "myseries['Chennai Super Kings']"
   ]
  },
  {
   "cell_type": "code",
   "execution_count": 14,
   "id": "a025ae6c",
   "metadata": {},
   "outputs": [],
   "source": [
    "#imp\n",
    "# if two series have same index then we can perform mathematical operations on them"
   ]
  },
  {
   "cell_type": "code",
   "execution_count": 15,
   "id": "906e18a4",
   "metadata": {},
   "outputs": [
    {
     "data": {
      "text/plain": [
       "team1\n",
       "Mumbai Indians                 82\n",
       "Kings XI Punjab                77\n",
       "Chennai Super Kings            77\n",
       "Royal Challengers Bangalore    70\n",
       "Kolkata Knight Riders          68\n",
       "Delhi Daredevils               63\n",
       "Rajasthan Royals               54\n",
       "Sunrisers Hyderabad            46\n",
       "Deccan Chargers                43\n",
       "Pune Warriors                  20\n",
       "Gujarat Lions                  14\n",
       "Rising Pune Supergiant          8\n",
       "Kochi Tuskers Kerala            7\n",
       "Rising Pune Supergiants         7\n",
       "Name: count, dtype: int64"
      ]
     },
     "execution_count": 15,
     "metadata": {},
     "output_type": "execute_result"
    }
   ],
   "source": [
    "data['team1'].value_counts()"
   ]
  },
  {
   "cell_type": "code",
   "execution_count": 16,
   "id": "d20eb220",
   "metadata": {},
   "outputs": [
    {
     "data": {
      "text/plain": [
       "team2\n",
       "Delhi Daredevils               84\n",
       "Royal Challengers Bangalore    82\n",
       "Kolkata Knight Riders          80\n",
       "Mumbai Indians                 75\n",
       "Kings XI Punjab                71\n",
       "Rajasthan Royals               64\n",
       "Chennai Super Kings            54\n",
       "Deccan Chargers                32\n",
       "Sunrisers Hyderabad            30\n",
       "Pune Warriors                  26\n",
       "Gujarat Lions                  16\n",
       "Rising Pune Supergiant          8\n",
       "Kochi Tuskers Kerala            7\n",
       "Rising Pune Supergiants         7\n",
       "Name: count, dtype: int64"
      ]
     },
     "execution_count": 16,
     "metadata": {},
     "output_type": "execute_result"
    }
   ],
   "source": [
    "data['team2'].value_counts()"
   ]
  },
  {
   "cell_type": "code",
   "execution_count": 17,
   "id": "6ebf3567",
   "metadata": {},
   "outputs": [
    {
     "data": {
      "text/plain": [
       "Chennai Super Kings            131\n",
       "Deccan Chargers                 75\n",
       "Delhi Daredevils               147\n",
       "Gujarat Lions                   30\n",
       "Kings XI Punjab                148\n",
       "Kochi Tuskers Kerala            14\n",
       "Kolkata Knight Riders          148\n",
       "Mumbai Indians                 157\n",
       "Pune Warriors                   46\n",
       "Rajasthan Royals               118\n",
       "Rising Pune Supergiant          16\n",
       "Rising Pune Supergiants         14\n",
       "Royal Challengers Bangalore    152\n",
       "Sunrisers Hyderabad             76\n",
       "Name: count, dtype: int64"
      ]
     },
     "execution_count": 17,
     "metadata": {},
     "output_type": "execute_result"
    }
   ],
   "source": [
    "data['team1'].value_counts() + data['team2'].value_counts()"
   ]
  },
  {
   "cell_type": "code",
   "execution_count": 18,
   "id": "d6e525af",
   "metadata": {},
   "outputs": [
    {
     "data": {
      "text/plain": [
       "Chennai Super Kings            4158\n",
       "Deccan Chargers                1376\n",
       "Delhi Daredevils               5292\n",
       "Gujarat Lions                   224\n",
       "Kings XI Punjab                5467\n",
       "Kochi Tuskers Kerala             49\n",
       "Kolkata Knight Riders          5440\n",
       "Mumbai Indians                 6150\n",
       "Pune Warriors                   520\n",
       "Rajasthan Royals               3456\n",
       "Rising Pune Supergiant           64\n",
       "Rising Pune Supergiants          49\n",
       "Royal Challengers Bangalore    5740\n",
       "Sunrisers Hyderabad            1380\n",
       "Name: count, dtype: int64"
      ]
     },
     "execution_count": 18,
     "metadata": {},
     "output_type": "execute_result"
    }
   ],
   "source": [
    "data['team1'].value_counts() * data['team2'].value_counts()"
   ]
  },
  {
   "cell_type": "code",
   "execution_count": 19,
   "id": "d42dc6e2",
   "metadata": {},
   "outputs": [
    {
     "data": {
      "text/plain": [
       "Chennai Super Kings            1.425926\n",
       "Deccan Chargers                1.343750\n",
       "Delhi Daredevils               0.750000\n",
       "Gujarat Lions                  0.875000\n",
       "Kings XI Punjab                1.084507\n",
       "Kochi Tuskers Kerala           1.000000\n",
       "Kolkata Knight Riders          0.850000\n",
       "Mumbai Indians                 1.093333\n",
       "Pune Warriors                  0.769231\n",
       "Rajasthan Royals               0.843750\n",
       "Rising Pune Supergiant         1.000000\n",
       "Rising Pune Supergiants        1.000000\n",
       "Royal Challengers Bangalore    0.853659\n",
       "Sunrisers Hyderabad            1.533333\n",
       "Name: count, dtype: float64"
      ]
     },
     "execution_count": 19,
     "metadata": {},
     "output_type": "execute_result"
    }
   ],
   "source": [
    "data['team1'].value_counts() / data['team2'].value_counts()"
   ]
  },
  {
   "cell_type": "code",
   "execution_count": null,
   "id": "df5e9a84",
   "metadata": {},
   "outputs": [],
   "source": []
  }
 ],
 "metadata": {
  "kernelspec": {
   "display_name": "base",
   "language": "python",
   "name": "python3"
  },
  "language_info": {
   "codemirror_mode": {
    "name": "ipython",
    "version": 3
   },
   "file_extension": ".py",
   "mimetype": "text/x-python",
   "name": "python",
   "nbconvert_exporter": "python",
   "pygments_lexer": "ipython3",
   "version": "3.13.5"
  }
 },
 "nbformat": 4,
 "nbformat_minor": 5
}
